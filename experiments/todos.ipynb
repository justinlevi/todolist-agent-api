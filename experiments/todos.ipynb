{
 "cells": [
  {
   "cell_type": "code",
   "execution_count": 1,
   "metadata": {},
   "outputs": [],
   "source": [
    "import sys\n",
    "import os\n",
    "\n",
    "# Add the parent directory of 'src' to the Python path\n",
    "sys.path.append(os.path.abspath(os.path.join(os.getcwd(), '..')))"
   ]
  },
  {
   "cell_type": "code",
   "execution_count": 2,
   "metadata": {},
   "outputs": [
    {
     "name": "stdout",
     "output_type": "stream",
     "text": [
      "ID: 1, Title: Say hello, Completed: False, Created At: 2024-10-20 21:35:34.593000\n",
      "Raw timestamp: 1729474534593\n"
     ]
    }
   ],
   "source": [
    "from sqlalchemy import create_engine, select, Column, Integer, String, Boolean, DateTime\n",
    "from sqlalchemy.orm import Session, DeclarativeBase, Mapped, mapped_column\n",
    "from datetime import datetime\n",
    "\n",
    "class Base(DeclarativeBase):\n",
    "    pass\n",
    "\n",
    "class Todo(Base):\n",
    "    __tablename__ = 'Todo'\n",
    "    \n",
    "    id: Mapped[int] = mapped_column(Integer, primary_key=True)\n",
    "    title: Mapped[str] = mapped_column(String, nullable=False)\n",
    "    completed: Mapped[bool] = mapped_column(Boolean, default=False)\n",
    "    createdAt: Mapped[int] = mapped_column(Integer)\n",
    "\n",
    "    @property\n",
    "    def created_at(self):\n",
    "        return datetime.fromtimestamp(self.createdAt / 1000)\n",
    "\n",
    "    def __repr__(self):\n",
    "        return f\"<Todo(id={self.id}, title='{self.title}', completed={self.completed}, createdAt={self.created_at})>\"\n",
    "\n",
    "# Create the engine\n",
    "engine = create_engine('sqlite:///../prisma/dev.db')\n",
    "\n",
    "\n",
    "# with engine.connect() as connection:\n",
    "#     result = connection.execute(select(Todo.__table__))\n",
    "#     for row in result:\n",
    "#         print(row)\n",
    "\n",
    "with Session(engine) as session:\n",
    "    stmt = select(Todo)\n",
    "    todos = session.execute(stmt).scalars().all()\n",
    "\n",
    "    for todo in todos:\n",
    "        print(f\"ID: {todo.id}, Title: {todo.title}, Completed: {todo.completed}, Created At: {todo.created_at}\")\n",
    "        print(f\"Raw timestamp: {todo.createdAt}\")"
   ]
  },
  {
   "cell_type": "code",
   "execution_count": 6,
   "metadata": {},
   "outputs": [
    {
     "name": "stdout",
     "output_type": "stream",
     "text": [
      "[Todo(id=1, title='Say hello', completed=False, createdAt=datetime.datetime(2024, 10, 21, 1, 35, 34, 593000, tzinfo=TzInfo(UTC)))]\n"
     ]
    },
    {
     "name": "stderr",
     "output_type": "stream",
     "text": [
      "/var/folders/qj/sdy1tgv53cg26v08n8n8g55w0000gn/T/ipykernel_32297/1756116166.py:37: RuntimeWarning: coroutine 'get_todos' was never awaited\n",
      "  todos = await get_todos()\n",
      "RuntimeWarning: Enable tracemalloc to get the object allocation traceback\n"
     ]
    }
   ],
   "source": [
    "from typing import List\n",
    "from prisma import Prisma\n",
    "from src.models.todo import Todo\n",
    "\n",
    "async def get_todos() -> List[Todo]:\n",
    "    \"\"\"\n",
    "    Retrieve all todos from the database synchronously.\n",
    "\n",
    "    This function fetches all todo items stored in the database and returns them as a list of Todo objects.\n",
    "\n",
    "    Returns:\n",
    "        List[Todo]: A list of Todo objects representing all the todos in the database.\n",
    "\n",
    "    Raises:\n",
    "        Exception: If there's an error while fetching the todos from the database.\n",
    "    \"\"\"\n",
    "    try:\n",
    "        db = Prisma()\n",
    "        await db.connect()\n",
    "        todos = await db.todo.find_many()\n",
    "        return [\n",
    "            Todo(\n",
    "                id=todo.id,\n",
    "                title=todo.title,\n",
    "                completed=todo.completed,\n",
    "                createdAt=todo.createdAt,\n",
    "            )\n",
    "            for todo in todos\n",
    "        ]\n",
    "    except Exception as e:\n",
    "        raise Exception(f\"Failed to fetch todos: {str(e)}\")\n",
    "    finally:\n",
    "        await db.disconnect()\n",
    "\n",
    "\n",
    "\n",
    "todos = await get_todos()\n",
    "print(todos)"
   ]
  }
 ],
 "metadata": {
  "kernelspec": {
   "display_name": "api-4sC2qndp-py3.12",
   "language": "python",
   "name": "python3"
  },
  "language_info": {
   "codemirror_mode": {
    "name": "ipython",
    "version": 3
   },
   "file_extension": ".py",
   "mimetype": "text/x-python",
   "name": "python",
   "nbconvert_exporter": "python",
   "pygments_lexer": "ipython3",
   "version": "3.12.7"
  }
 },
 "nbformat": 4,
 "nbformat_minor": 2
}
